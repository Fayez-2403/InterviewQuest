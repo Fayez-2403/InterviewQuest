{
 "cells": [
  {
   "cell_type": "markdown",
   "metadata": {
    "id": "P1B0M06be4Xm"
   },
   "source": [
    "# **Book Genre Prediction**"
   ]
  },
  {
   "cell_type": "code",
   "execution_count": 12,
   "metadata": {
    "id": "qt9M3yIHSyqj"
   },
   "outputs": [
    {
     "name": "stdout",
     "output_type": "stream",
     "text": [
      "Collecting package metadata (current_repodata.json): ...working... done\n",
      "Solving environment: ...working... done\n",
      "\n",
      "## Package Plan ##\n",
      "\n",
      "  environment location: C:\\ProgramData\\Anaconda3\n",
      "\n",
      "  added / updated specs:\n",
      "    - lightgbm\n",
      "\n",
      "\n",
      "The following NEW packages will be INSTALLED:\n",
      "\n",
      "  lightgbm           pkgs/main/win-64::lightgbm-3.3.5-py39hd77b12b_0 None\n",
      "\n",
      "\n",
      "Preparing transaction: ...working... done\n",
      "Verifying transaction: ...working... done\n",
      "Executing transaction: ...working... done\n",
      "Retrieving notices: ...working... done\n",
      "\n",
      "Note: you may need to restart the kernel to use updated packages.\n"
     ]
    },
    {
     "name": "stderr",
     "output_type": "stream",
     "text": [
      "\n",
      "\n",
      "==> WARNING: A newer version of conda exists. <==\n",
      "  current version: 22.9.0\n",
      "  latest version: 23.3.1\n",
      "\n",
      "Please update conda by running\n",
      "\n",
      "    $ conda update -n base -c defaults conda\n",
      "\n",
      "\n"
     ]
    }
   ],
   "source": [
    "conda install -c conda-forge lightgbm\n"
   ]
  },
  {
   "cell_type": "code",
   "execution_count": 2,
   "metadata": {},
   "outputs": [],
   "source": [
    "#Importing libraries.\n",
    "\n",
    "import pandas as pd\n",
    "import numpy as np\n",
    "import nltk\n",
    "import matplotlib.pyplot as plt \n",
    "import seaborn as sns\n",
    "import re\n",
    "from datetime import datetime\n",
    "from sklearn.feature_extraction.text import TfidfVectorizer\n",
    "from sklearn.model_selection import train_test_split\n",
    "from sklearn.metrics import accuracy_score \n",
    "from sklearn.metrics import classification_report,confusion_matrix\n",
    "from sklearn.ensemble import RandomForestClassifier\n",
    "from sklearn.tree import DecisionTreeClassifier\n",
    "from sklearn.svm import SVC\n",
    "from lightgbm import LGBMClassifier\n",
    "from sklearn.ensemble import GradientBoostingClassifier\n"
   ]
  },
  {
   "cell_type": "code",
   "execution_count": 3,
   "metadata": {
    "id": "KONR_gBPTqQD"
   },
   "outputs": [],
   "source": [
    "#Using the pandas framework a dataset is created using the \"BooksDataSet.csv\" file.\n",
    "\n",
    "books=pd.read_csv('./coding/with_ques/Amazon.csv')\n",
    "\n",
    "#We only keep the 4 neccessary columns that we will be need. \n",
    "books=pd.DataFrame(books,columns=['problem_statement','title','tags','num_occur'])"
   ]
  },
  {
   "cell_type": "code",
   "execution_count": 4,
   "metadata": {
    "colab": {
     "base_uri": "https://localhost:8080/",
     "height": 203
    },
    "id": "EFSQMtDkTu4D",
    "outputId": "9c150f82-65ac-436c-af37-6d499eefe96d"
   },
   "outputs": [
    {
     "data": {
      "text/html": [
       "<div>\n",
       "<style scoped>\n",
       "    .dataframe tbody tr th:only-of-type {\n",
       "        vertical-align: middle;\n",
       "    }\n",
       "\n",
       "    .dataframe tbody tr th {\n",
       "        vertical-align: top;\n",
       "    }\n",
       "\n",
       "    .dataframe thead th {\n",
       "        text-align: right;\n",
       "    }\n",
       "</style>\n",
       "<table border=\"1\" class=\"dataframe\">\n",
       "  <thead>\n",
       "    <tr style=\"text-align: right;\">\n",
       "      <th></th>\n",
       "      <th>problem_statement</th>\n",
       "      <th>title</th>\n",
       "      <th>tags</th>\n",
       "      <th>num_occur</th>\n",
       "    </tr>\n",
       "  </thead>\n",
       "  <tbody>\n",
       "    <tr>\n",
       "      <th>0</th>\n",
       "      <td>Design a data structure that follows the const...</td>\n",
       "      <td>LRU Cache</td>\n",
       "      <td>Hash Table</td>\n",
       "      <td>117</td>\n",
       "    </tr>\n",
       "    <tr>\n",
       "      <th>1</th>\n",
       "      <td>Given an array of integers nums and an integer...</td>\n",
       "      <td>Two Sum</td>\n",
       "      <td>Array</td>\n",
       "      <td>117</td>\n",
       "    </tr>\n",
       "    <tr>\n",
       "      <th>2</th>\n",
       "      <td>Given an m x n 2D binary grid grid which repre...</td>\n",
       "      <td>Number of Islands</td>\n",
       "      <td>Array</td>\n",
       "      <td>103</td>\n",
       "    </tr>\n",
       "    <tr>\n",
       "      <th>3</th>\n",
       "      <td>Given an array of intervals where intervals[i]...</td>\n",
       "      <td>Merge Intervals</td>\n",
       "      <td>Array</td>\n",
       "      <td>87</td>\n",
       "    </tr>\n",
       "    <tr>\n",
       "      <th>4</th>\n",
       "      <td>You are given an array of strings products and...</td>\n",
       "      <td>Search Suggestions System</td>\n",
       "      <td>Array</td>\n",
       "      <td>68</td>\n",
       "    </tr>\n",
       "  </tbody>\n",
       "</table>\n",
       "</div>"
      ],
      "text/plain": [
       "                                   problem_statement  \\\n",
       "0  Design a data structure that follows the const...   \n",
       "1  Given an array of integers nums and an integer...   \n",
       "2  Given an m x n 2D binary grid grid which repre...   \n",
       "3  Given an array of intervals where intervals[i]...   \n",
       "4  You are given an array of strings products and...   \n",
       "\n",
       "                       title        tags  num_occur  \n",
       "0                  LRU Cache  Hash Table        117  \n",
       "1                    Two Sum       Array        117  \n",
       "2          Number of Islands       Array        103  \n",
       "3            Merge Intervals       Array         87  \n",
       "4  Search Suggestions System       Array         68  "
      ]
     },
     "execution_count": 4,
     "metadata": {},
     "output_type": "execute_result"
    }
   ],
   "source": [
    "books.head()"
   ]
  },
  {
   "cell_type": "code",
   "execution_count": 5,
   "metadata": {
    "colab": {
     "base_uri": "https://localhost:8080/"
    },
    "id": "M3nEThVyTyMx",
    "outputId": "da5cd003-5332-4a3d-c28d-f0ad7e0f1cd4"
   },
   "outputs": [
    {
     "name": "stdout",
     "output_type": "stream",
     "text": [
      "<class 'pandas.core.frame.DataFrame'>\n",
      "RangeIndex: 526 entries, 0 to 525\n",
      "Data columns (total 4 columns):\n",
      " #   Column             Non-Null Count  Dtype \n",
      "---  ------             --------------  ----- \n",
      " 0   problem_statement  526 non-null    object\n",
      " 1   title              526 non-null    object\n",
      " 2   tags               526 non-null    object\n",
      " 3   num_occur          526 non-null    int64 \n",
      "dtypes: int64(1), object(3)\n",
      "memory usage: 16.6+ KB\n"
     ]
    }
   ],
   "source": [
    "books.info()"
   ]
  },
  {
   "cell_type": "code",
   "execution_count": 6,
   "metadata": {
    "colab": {
     "base_uri": "https://localhost:8080/"
    },
    "id": "_5UM6HRBT2di",
    "outputId": "f239f3eb-c37a-4cb1-ea5a-5b5750a111dd"
   },
   "outputs": [
    {
     "data": {
      "text/plain": [
       "(526, 4)"
      ]
     },
     "execution_count": 6,
     "metadata": {},
     "output_type": "execute_result"
    }
   ],
   "source": [
    "books.shape"
   ]
  },
  {
   "cell_type": "code",
   "execution_count": 7,
   "metadata": {
    "colab": {
     "base_uri": "https://localhost:8080/",
     "height": 265
    },
    "id": "ucqIXVsWT5SY",
    "outputId": "aa10f0f0-3a2c-4421-fa2a-07bd61d5fd87"
   },
   "outputs": [
    {
     "data": {
      "text/html": [
       "<div>\n",
       "<style scoped>\n",
       "    .dataframe tbody tr th:only-of-type {\n",
       "        vertical-align: middle;\n",
       "    }\n",
       "\n",
       "    .dataframe tbody tr th {\n",
       "        vertical-align: top;\n",
       "    }\n",
       "\n",
       "    .dataframe thead th {\n",
       "        text-align: right;\n",
       "    }\n",
       "</style>\n",
       "<table border=\"1\" class=\"dataframe\">\n",
       "  <thead>\n",
       "    <tr style=\"text-align: right;\">\n",
       "      <th></th>\n",
       "      <th>problem_statement</th>\n",
       "      <th>title</th>\n",
       "      <th>num_occur</th>\n",
       "    </tr>\n",
       "    <tr>\n",
       "      <th>tags</th>\n",
       "      <th></th>\n",
       "      <th></th>\n",
       "      <th></th>\n",
       "    </tr>\n",
       "  </thead>\n",
       "  <tbody>\n",
       "    <tr>\n",
       "      <th>Array</th>\n",
       "      <td>266</td>\n",
       "      <td>266</td>\n",
       "      <td>266</td>\n",
       "    </tr>\n",
       "    <tr>\n",
       "      <th>Backtracking</th>\n",
       "      <td>2</td>\n",
       "      <td>2</td>\n",
       "      <td>2</td>\n",
       "    </tr>\n",
       "    <tr>\n",
       "      <th>Binary Search</th>\n",
       "      <td>3</td>\n",
       "      <td>3</td>\n",
       "      <td>3</td>\n",
       "    </tr>\n",
       "    <tr>\n",
       "      <th>Bit Manipulation</th>\n",
       "      <td>2</td>\n",
       "      <td>2</td>\n",
       "      <td>2</td>\n",
       "    </tr>\n",
       "    <tr>\n",
       "      <th>Depth-First Search</th>\n",
       "      <td>9</td>\n",
       "      <td>9</td>\n",
       "      <td>9</td>\n",
       "    </tr>\n",
       "    <tr>\n",
       "      <th>Design</th>\n",
       "      <td>1</td>\n",
       "      <td>1</td>\n",
       "      <td>1</td>\n",
       "    </tr>\n",
       "    <tr>\n",
       "      <th>Divide and Conquer</th>\n",
       "      <td>1</td>\n",
       "      <td>1</td>\n",
       "      <td>1</td>\n",
       "    </tr>\n",
       "    <tr>\n",
       "      <th>Dynamic Programming</th>\n",
       "      <td>9</td>\n",
       "      <td>9</td>\n",
       "      <td>9</td>\n",
       "    </tr>\n",
       "    <tr>\n",
       "      <th>Enumeration</th>\n",
       "      <td>1</td>\n",
       "      <td>1</td>\n",
       "      <td>1</td>\n",
       "    </tr>\n",
       "    <tr>\n",
       "      <th>Graph</th>\n",
       "      <td>1</td>\n",
       "      <td>1</td>\n",
       "      <td>1</td>\n",
       "    </tr>\n",
       "    <tr>\n",
       "      <th>Hash Table</th>\n",
       "      <td>47</td>\n",
       "      <td>47</td>\n",
       "      <td>47</td>\n",
       "    </tr>\n",
       "    <tr>\n",
       "      <th>Linked List</th>\n",
       "      <td>27</td>\n",
       "      <td>27</td>\n",
       "      <td>27</td>\n",
       "    </tr>\n",
       "    <tr>\n",
       "      <th>Math</th>\n",
       "      <td>42</td>\n",
       "      <td>42</td>\n",
       "      <td>42</td>\n",
       "    </tr>\n",
       "    <tr>\n",
       "      <th>Stack</th>\n",
       "      <td>8</td>\n",
       "      <td>8</td>\n",
       "      <td>8</td>\n",
       "    </tr>\n",
       "    <tr>\n",
       "      <th>String</th>\n",
       "      <td>56</td>\n",
       "      <td>56</td>\n",
       "      <td>56</td>\n",
       "    </tr>\n",
       "    <tr>\n",
       "      <th>Tree</th>\n",
       "      <td>42</td>\n",
       "      <td>42</td>\n",
       "      <td>42</td>\n",
       "    </tr>\n",
       "    <tr>\n",
       "      <th>Two Pointers</th>\n",
       "      <td>9</td>\n",
       "      <td>9</td>\n",
       "      <td>9</td>\n",
       "    </tr>\n",
       "  </tbody>\n",
       "</table>\n",
       "</div>"
      ],
      "text/plain": [
       "                     problem_statement  title  num_occur\n",
       "tags                                                    \n",
       "Array                              266    266        266\n",
       "Backtracking                         2      2          2\n",
       "Binary Search                        3      3          3\n",
       "Bit Manipulation                     2      2          2\n",
       "Depth-First Search                   9      9          9\n",
       "Design                               1      1          1\n",
       "Divide and Conquer                   1      1          1\n",
       "Dynamic Programming                  9      9          9\n",
       "Enumeration                          1      1          1\n",
       "Graph                                1      1          1\n",
       "Hash Table                          47     47         47\n",
       "Linked List                         27     27         27\n",
       "Math                                42     42         42\n",
       "Stack                                8      8          8\n",
       "String                              56     56         56\n",
       "Tree                                42     42         42\n",
       "Two Pointers                         9      9          9"
      ]
     },
     "execution_count": 7,
     "metadata": {},
     "output_type": "execute_result"
    }
   ],
   "source": [
    "#Grouping all the rows by genre.\n",
    "books.groupby('tags').count()"
   ]
  },
  {
   "cell_type": "code",
   "execution_count": 8,
   "metadata": {
    "colab": {
     "base_uri": "https://localhost:8080/"
    },
    "id": "LeXnVEacT9Aw",
    "outputId": "3d9d8da5-30ea-410c-8c56-4591c28d8497"
   },
   "outputs": [
    {
     "data": {
      "text/plain": [
       "0      Design a data structure that follows the const...\n",
       "1      Given an array of integers nums and an integer...\n",
       "2      Given an m x n 2D binary grid grid which repre...\n",
       "3      Given an array of intervals where intervals[i]...\n",
       "4      You are given an array of strings products and...\n",
       "                             ...                        \n",
       "521    Given two integers left and right, return the ...\n",
       "522    An integer has monotone increasing digits if a...\n",
       "523    You are given an integer array nums. The adjac...\n",
       "524    A complex number can be represented as a strin...\n",
       "525    You are given an integer array nums of length ...\n",
       "Name: problem_statement, Length: 526, dtype: object"
      ]
     },
     "execution_count": 8,
     "metadata": {},
     "output_type": "execute_result"
    }
   ],
   "source": [
    "books['problem_statement']\n"
   ]
  },
  {
   "cell_type": "code",
   "execution_count": 9,
   "metadata": {
    "id": "vmjVbRn_UAKn"
   },
   "outputs": [],
   "source": [
    "# function for text cleaning\n",
    " \n",
    "def clean(text):\n",
    "    # remove backslash-apostrophe \n",
    "    text = re.sub(\"\\'\", \"\", text) \n",
    "    # remove everything except alphabets \n",
    "    text = re.sub(\"[^a-zA-Z]\",\" \",text) \n",
    "    # remove whitespaces \n",
    "    text = ' '.join(text.split()) \n",
    "    # convert text to lowercase \n",
    "    text = text.lower() \n",
    "    \n",
    "    return text\n",
    "\n",
    "books.loc[:,'problem_statement']=books.loc[:,'problem_statement'].apply(lambda x: clean(x))"
   ]
  },
  {
   "cell_type": "code",
   "execution_count": 10,
   "metadata": {
    "colab": {
     "base_uri": "https://localhost:8080/"
    },
    "id": "GLGGIH7PUDh0",
    "outputId": "db109521-0e22-490f-9d82-b2e25c27e831"
   },
   "outputs": [
    {
     "data": {
      "text/plain": [
       "0      design a data structure that follows the const...\n",
       "1      given an array of integers nums and an integer...\n",
       "2      given an m x n d binary grid grid which repres...\n",
       "3      given an array of intervals where intervals i ...\n",
       "4      you are given an array of strings products and...\n",
       "                             ...                        \n",
       "521    given two integers left and right return the c...\n",
       "522    an integer has monotone increasing digits if a...\n",
       "523    you are given an integer array nums the adjace...\n",
       "524    a complex number can be represented as a strin...\n",
       "525    you are given an integer array nums of length ...\n",
       "Name: problem_statement, Length: 526, dtype: object"
      ]
     },
     "execution_count": 10,
     "metadata": {},
     "output_type": "execute_result"
    }
   ],
   "source": [
    "#Displaying \"summary\" after text-cleaning.\n",
    "books['problem_statement']\n"
   ]
  },
  {
   "cell_type": "code",
   "execution_count": 11,
   "metadata": {
    "colab": {
     "base_uri": "https://localhost:8080/",
     "height": 385
    },
    "id": "VPrvOq07UJj1",
    "outputId": "274bb4d1-63f0-4296-ac63-3232ca02b576"
   },
   "outputs": [
    {
     "name": "stdout",
     "output_type": "stream",
     "text": [
      "Graph to visualize the words and frequency in problem_statement.\n",
      "\n",
      "\n"
     ]
    },
    {
     "data": {
      "image/png": "[encoded data removed]",
      "text/plain": [
       "<Figure size 700x500 with 1 Axes>"
      ]
     },
     "metadata": {},
     "output_type": "display_data"
    }
   ],
   "source": [
    "#Function to visualize the words and frequency in book's summary.\n",
    "\n",
    "print(\"Graph to visualize the words and frequency in problem_statement.\\n\\n\")\n",
    "\n",
    "def freqwords(x, terms): \n",
    "  allwords = ' '.join([text for text in x]) \n",
    "  allwords = allwords.split() \n",
    "  fdist = nltk.FreqDist(allwords) \n",
    "  wordsdf = pd.DataFrame({'word':list(fdist.keys()), 'count':list(fdist.values())}) \n",
    "  \n",
    "  \n",
    "  d = wordsdf.nlargest(columns=\"count\", n = terms) \n",
    "  \n",
    "  # visualize words and frequencies\n",
    "  plt.figure(figsize=(7,5)) \n",
    "  ax = sns.barplot(data=d, x= \"count\", y = \"word\") \n",
    "  ax.set(ylabel = 'Word') \n",
    "  plt.show()\n",
    "  \n",
    "# print 25 most frequent words \n",
    "freqwords(books['problem_statement'], 25)"
   ]
  },
  {
   "cell_type": "code",
   "execution_count": 12,
   "metadata": {
    "colab": {
     "base_uri": "https://localhost:8080/"
    },
    "id": "HeW7LijyUPoj",
    "outputId": "6b9e4ca2-ee78-456c-f747-77b2857f4d45"
   },
   "outputs": [
    {
     "name": "stderr",
     "output_type": "stream",
     "text": [
      "[nltk_data] Downloading package stopwords to\n",
      "[nltk_data]     C:\\Users\\hp\\AppData\\Roaming\\nltk_data...\n",
      "[nltk_data]   Package stopwords is already up-to-date!\n"
     ]
    }
   ],
   "source": [
    "nltk.download('stopwords')\n",
    "\n",
    "from nltk.corpus import stopwords\n",
    "stop_words = set(stopwords.words('english'))\n",
    "\n",
    "# function to remove stopwords\n",
    "def removestopwords(text):\n",
    "    no_stopword_text = [w for w in text.split() if not w in stop_words]\n",
    "    return ' '.join(no_stopword_text)\n",
    "\n",
    "books['problem_statement'] = books['problem_statement'].apply(lambda x: removestopwords(x))"
   ]
  },
  {
   "cell_type": "code",
   "execution_count": 13,
   "metadata": {
    "colab": {
     "base_uri": "https://localhost:8080/"
    },
    "id": "1XJHvAkjUVG3",
    "outputId": "f7ab6cd7-35be-47ce-8caf-a0277de84152"
   },
   "outputs": [
    {
     "name": "stderr",
     "output_type": "stream",
     "text": [
      "[nltk_data] Downloading package wordnet to\n",
      "[nltk_data]     C:\\Users\\hp\\AppData\\Roaming\\nltk_data...\n",
      "[nltk_data]   Package wordnet is already up-to-date!\n"
     ]
    }
   ],
   "source": [
    "nltk.download('wordnet')\n",
    "from nltk.stem import WordNetLemmatizer\n",
    "\n",
    "lemma=WordNetLemmatizer()\n",
    "\n",
    "def lematizing(sentence):\n",
    "    stemSentence = \"\"\n",
    "    for word in sentence.split():\n",
    "        stem = lemma.lemmatize(word)\n",
    "        stemSentence += stem\n",
    "        stemSentence += \" \"\n",
    "    stemSentence = stemSentence.strip()\n",
    "    return stemSentence\n",
    "\n",
    "\n",
    "books['problem_statement'] = books['problem_statement'].apply(lambda x: lematizing(x))"
   ]
  },
  {
   "cell_type": "code",
   "execution_count": 14,
   "metadata": {
    "id": "I7nMZtWKUZIx"
   },
   "outputs": [],
   "source": [
    "from nltk.stem import PorterStemmer\n",
    "stemmer = PorterStemmer()\n",
    "def stemming(sentence):\n",
    "    stemSentence = \"\"\n",
    "    for word in sentence.split():\n",
    "        stem = stemmer.stem(word)\n",
    "        stemSentence += stem\n",
    "        stemSentence += \" \"\n",
    "    stemSentence = stemSentence.strip()\n",
    "    return stemSentence\n",
    "\n",
    "\n",
    "books['problem_statement'] = books['problem_statement'].apply(lambda x: stemming(x))"
   ]
  },
  {
   "cell_type": "code",
   "execution_count": 15,
   "metadata": {
    "colab": {
     "base_uri": "https://localhost:8080/"
    },
    "id": "mxGCotHLUdDE",
    "outputId": "cb803711-6740-461d-d44d-0f8c11f7dd43"
   },
   "outputs": [
    {
     "data": {
      "text/plain": [
       "0      design data structur follow constraint least r...\n",
       "1      given array integ num integ target return inde...\n",
       "2      given x n binari grid grid repres map land wat...\n",
       "3      given array interv interv starti endi merg ove...\n",
       "4      given array string product string searchword d...\n",
       "                             ...                        \n",
       "521    given two integ left right return count number...\n",
       "522    integ monoton increas digit pair adjac digit x...\n",
       "523    given integ array num adjac integ num perform ...\n",
       "524    complex number repres string form real imagina...\n",
       "525    given integ array num length n assum arrk arra...\n",
       "Name: problem_statement, Length: 526, dtype: object"
      ]
     },
     "execution_count": 15,
     "metadata": {},
     "output_type": "execute_result"
    }
   ],
   "source": [
    "books['problem_statement']\n"
   ]
  },
  {
   "cell_type": "code",
   "execution_count": 16,
   "metadata": {
    "colab": {
     "base_uri": "https://localhost:8080/",
     "height": 334
    },
    "id": "ROSKX5CbUjUQ",
    "outputId": "87a1b9fd-04bd-4f9c-ad10-83163b74fd82"
   },
   "outputs": [
    {
     "data": {
      "image/png": "[encoded data removed]",
      "text/plain": [
       "<Figure size 700x500 with 1 Axes>"
      ]
     },
     "metadata": {},
     "output_type": "display_data"
    }
   ],
   "source": [
    "#Function to visualize the words and frequency in book's summary.\n",
    "\n",
    "# print 25 most frequent words \n",
    "freqwords(books['problem_statement'], 25)"
   ]
  },
  {
   "cell_type": "code",
   "execution_count": 17,
   "metadata": {
    "id": "pMRhQTrqUnGv"
   },
   "outputs": [
    {
     "name": "stdout",
     "output_type": "stream",
     "text": [
      "[10  0  0  0  0  0  0  0 10 11  0  0 14 10  0  0 11  0  0 14  4  0  0  0\n",
      "  0  0  0 10  0  0  0  4 15 10 10 12 15 15 11 14  0  0  0  0 11  0  0 12\n",
      "  0 10  0  0  0 13  0  0 10  0  0  7  0 11  0 10 10 15 14  0  0  0  0 12\n",
      " 11  0  0 12  0  0  0  0  5  0 10 15 14  2 11  0  0  0  0  0 10 12 10  0\n",
      "  0  0 12 14  0  0 15 11 11  0  0 10  0  0 15  0  0 10  0 10 14 12 12  0\n",
      "  0 14 12  0 14 14 14 10 15 16  0  0 10 13  0 10  0  0  0 10 16 15 15  0\n",
      " 14 14 12  0 11 14 10  0  0 12 10 16 10  0 11  0  0  0  0 12  0 15  7 14\n",
      " 14  0 13  4 15 15  0 14  0 10 14  0  0  0 16  7  0  0 10  0 11 11 11  0\n",
      " 12  0  0  0  0 12  0  0 10 11 12  0  0 16 14  0  0  0  0 12 15  2  0  0\n",
      "  1 15 15 11  0  0  0  0 14 12  0 14  0  4  0  0 15 14  0  0 15  0  0  0\n",
      " 15  0  0 14 10  2 15 12 12 12 15  0 10  0  0  0 16  0  0  4 11 10  0  0\n",
      "  0 11  0 13 12  0  0 14 15 14 12 13  0  0  0 11  0  0  0  4  0  0  0  0\n",
      "  7  0  0 12  8 12 15  0  0  7 14  0  0  0 10  4  0  0  0  0  7  0 15  0\n",
      "  0 15  0  7 10 16 15  0 14 14 11 10 12 10 10  7  0  0  0  0  0 14 15 13\n",
      "  0  6 11 15  0  0 14  0 14 10  0 14  0 14 14  0  0  0 12 14 14  0  0  0\n",
      "  0  0  0  0  0  0  0  9  0 14 12 12  0  0  0 14 14  0  0 14  0  0 15 15\n",
      " 10 11  0  0 15 15  0  0 15 10  0 11 14 12 10  0 10 14 15  0 15  0  0 15\n",
      " 10  0  0  0 16  0  0  0 14  0  0  0  0  0 10  0  7  0  0  3  0 12 11  0\n",
      " 14 15 15  0 15  4  0 15  0 10  0  0 12  0  0 14 13 14  0  0  0 14  0  3\n",
      "  0 14  0 10  0 11  0  0  0  0 10 12 10 14 11  0 10 13  0 12 14  0  4 14\n",
      " 12  0 11 12  0  0 10  0  0 12  0 16 14 14 15 15  0 12  1  0 14  0  0  0\n",
      " 12  0  0 14  0  0  0  0  0  0  0  0 14  0 12  0  0 12 12  0 12  0]\n"
     ]
    }
   ],
   "source": [
    "#Labeling each 'genre' with an unique number \n",
    "from sklearn.preprocessing import LabelEncoder\n",
    "le = LabelEncoder()\n",
    "y=le.fit_transform(books['tags'])\n",
    "print(y)"
   ]
  },
  {
   "cell_type": "code",
   "execution_count": 18,
   "metadata": {
    "colab": {
     "base_uri": "https://localhost:8080/"
    },
    "id": "oBIeH0-qUvz7",
    "outputId": "f75ba5df-a7d7-4dc2-997f-c7dc57f9e90a"
   },
   "outputs": [
    {
     "data": {
      "text/plain": [
       "array(['Array', 'Backtracking', 'Binary Search', 'Bit Manipulation',\n",
       "       'Depth-First Search', 'Design'], dtype=object)"
      ]
     },
     "execution_count": 18,
     "metadata": {},
     "output_type": "execute_result"
    }
   ],
   "source": [
    "#perform inverse mapping on the unique numbers representing a genre.\n",
    "le.inverse_transform([0,1,2,3,4,5])"
   ]
  },
  {
   "cell_type": "code",
   "execution_count": 28,
   "metadata": {
    "id": "YuMUu6ebU4kt"
   },
   "outputs": [],
   "source": [
    "xtrain, xtest, ytrain, ytest = train_test_split(books['problem_statement'], y, test_size=0.2, random_state=234)\n"
   ]
  },
  {
   "cell_type": "code",
   "execution_count": 43,
   "metadata": {
    "id": "SxsDQ29DU5BO"
   },
   "outputs": [],
   "source": [
    "#Performing tf-idf \n",
    "\n",
    "tfidf_vectorizer = TfidfVectorizer(max_df=0.8, max_features=10)\n",
    "xtrain_tfidf = tfidf_vectorizer.fit_transform(xtrain.values.astype('U'))\n",
    "xtest_tfidf = tfidf_vectorizer.transform(xtest.values.astype('U'))"
   ]
  },
  {
   "cell_type": "code",
   "execution_count": 44,
   "metadata": {
    "colab": {
     "base_uri": "https://localhost:8080/"
    },
    "id": "70cZOfLtVYqK",
    "outputId": "8f512d3e-e180-42b1-8967-a8bbed57e87d"
   },
   "outputs": [
    {
     "name": "stdout",
     "output_type": "stream",
     "text": [
      "Support Vector Classifier\n",
      "\n",
      "Accuracy Score : 0.7358490566037735\n",
      "Report : \n",
      "              precision    recall  f1-score   support\n",
      "\n",
      "           0       0.83      0.96      0.89        57\n",
      "           1       0.00      0.00      0.00         1\n",
      "           3       0.00      0.00      0.00         1\n",
      "           4       0.00      0.00      0.00         1\n",
      "           7       0.00      0.00      0.00         2\n",
      "          10       0.00      0.00      0.00        11\n",
      "          11       0.50      1.00      0.67         4\n",
      "          12       0.80      0.67      0.73         6\n",
      "          13       0.00      0.00      0.00         2\n",
      "          14       0.56      0.69      0.62        13\n",
      "          15       0.55      1.00      0.71         6\n",
      "          16       0.00      0.00      0.00         2\n",
      "\n",
      "    accuracy                           0.74       106\n",
      "   macro avg       0.27      0.36      0.30       106\n",
      "weighted avg       0.61      0.74      0.66       106\n",
      "\n"
     ]
    },
    {
     "name": "stderr",
     "output_type": "stream",
     "text": [
      "C:\\ProgramData\\Anaconda3\\lib\\site-packages\\sklearn\\metrics\\_classification.py:1318: UndefinedMetricWarning: Precision and F-score are ill-defined and being set to 0.0 in labels with no predicted samples. Use `zero_division` parameter to control this behavior.\n",
      "  _warn_prf(average, modifier, msg_start, len(result))\n",
      "C:\\ProgramData\\Anaconda3\\lib\\site-packages\\sklearn\\metrics\\_classification.py:1318: UndefinedMetricWarning: Precision and F-score are ill-defined and being set to 0.0 in labels with no predicted samples. Use `zero_division` parameter to control this behavior.\n",
      "  _warn_prf(average, modifier, msg_start, len(result))\n",
      "C:\\ProgramData\\Anaconda3\\lib\\site-packages\\sklearn\\metrics\\_classification.py:1318: UndefinedMetricWarning: Precision and F-score are ill-defined and being set to 0.0 in labels with no predicted samples. Use `zero_division` parameter to control this behavior.\n",
      "  _warn_prf(average, modifier, msg_start, len(result))\n"
     ]
    }
   ],
   "source": [
    "svc = SVC(kernel='rbf',gamma=1)\n",
    "svc.fit(xtrain_tfidf,ytrain)\n",
    "svpred=svc.predict(xtest_tfidf)\n",
    "\n",
    "print(\"Support Vector Classifier\\n\")\n",
    "print( 'Accuracy Score :',accuracy_score(ytest,svpred))\n",
    "print ('Report : ')\n",
    "print(classification_report(ytest,svpred))\n"
   ]
  },
  {
   "cell_type": "code",
   "execution_count": 45,
   "metadata": {
    "colab": {
     "base_uri": "https://localhost:8080/"
    },
    "id": "jrEHtjbxchdQ",
    "outputId": "6294cec9-82b1-4271-84e6-a44c2a4f822f"
   },
   "outputs": [
    {
     "name": "stdout",
     "output_type": "stream",
     "text": [
      "Random Forest Classifier\n",
      "\n",
      "Accuracy Score : 0.6981132075471698\n",
      "Report : \n",
      "              precision    recall  f1-score   support\n",
      "\n",
      "           0       0.85      0.93      0.89        57\n",
      "           1       0.00      0.00      0.00         1\n",
      "           3       0.00      0.00      0.00         1\n",
      "           4       0.00      0.00      0.00         1\n",
      "           7       1.00      0.50      0.67         2\n",
      "          10       0.00      0.00      0.00        11\n",
      "          11       0.50      0.75      0.60         4\n",
      "          12       0.44      0.67      0.53         6\n",
      "          13       0.00      0.00      0.00         2\n",
      "          14       0.70      0.54      0.61        13\n",
      "          15       0.67      1.00      0.80         6\n",
      "          16       0.00      0.00      0.00         2\n",
      "\n",
      "    accuracy                           0.70       106\n",
      "   macro avg       0.35      0.37      0.34       106\n",
      "weighted avg       0.65      0.70      0.66       106\n",
      "\n"
     ]
    },
    {
     "name": "stderr",
     "output_type": "stream",
     "text": [
      "C:\\ProgramData\\Anaconda3\\lib\\site-packages\\sklearn\\metrics\\_classification.py:1318: UndefinedMetricWarning: Precision and F-score are ill-defined and being set to 0.0 in labels with no predicted samples. Use `zero_division` parameter to control this behavior.\n",
      "  _warn_prf(average, modifier, msg_start, len(result))\n",
      "C:\\ProgramData\\Anaconda3\\lib\\site-packages\\sklearn\\metrics\\_classification.py:1318: UndefinedMetricWarning: Precision and F-score are ill-defined and being set to 0.0 in labels with no predicted samples. Use `zero_division` parameter to control this behavior.\n",
      "  _warn_prf(average, modifier, msg_start, len(result))\n",
      "C:\\ProgramData\\Anaconda3\\lib\\site-packages\\sklearn\\metrics\\_classification.py:1318: UndefinedMetricWarning: Precision and F-score are ill-defined and being set to 0.0 in labels with no predicted samples. Use `zero_division` parameter to control this behavior.\n",
      "  _warn_prf(average, modifier, msg_start, len(result))\n"
     ]
    }
   ],
   "source": [
    "rf = RandomForestClassifier(n_estimators=200)\n",
    "rf.fit(xtrain_tfidf,ytrain)\n",
    "rfpred=rf.predict(xtest_tfidf)\n",
    "\n",
    "print(\"Random Forest Classifier\\n\")\n",
    "print( 'Accuracy Score :',accuracy_score(ytest,rfpred))\n",
    "print ('Report : ')\n",
    "print(classification_report(ytest,rfpred))\n"
   ]
  },
  {
   "cell_type": "code",
   "execution_count": 46,
   "metadata": {
    "colab": {
     "base_uri": "https://localhost:8080/"
    },
    "id": "SOv-cwEFdEcu",
    "outputId": "b8ce3093-fb6b-4aef-84e3-f8ecc04a1b44"
   },
   "outputs": [
    {
     "name": "stdout",
     "output_type": "stream",
     "text": [
      "Decision Tree Classifier\n",
      "\n",
      "Accuracy Score : 0.6698113207547169\n",
      "Report : \n",
      "              precision    recall  f1-score   support\n",
      "\n",
      "           0       0.83      0.88      0.85        57\n",
      "           1       0.00      0.00      0.00         1\n",
      "           3       0.00      0.00      0.00         1\n",
      "           4       0.00      0.00      0.00         1\n",
      "           7       0.00      0.00      0.00         2\n",
      "          10       0.00      0.00      0.00        11\n",
      "          11       0.38      0.75      0.50         4\n",
      "          12       0.50      0.67      0.57         6\n",
      "          13       0.00      0.00      0.00         2\n",
      "          14       0.67      0.62      0.64        13\n",
      "          15       0.55      1.00      0.71         6\n",
      "          16       0.00      0.00      0.00         2\n",
      "\n",
      "    accuracy                           0.67       106\n",
      "   macro avg       0.24      0.33      0.27       106\n",
      "weighted avg       0.60      0.67      0.63       106\n",
      "\n"
     ]
    },
    {
     "name": "stderr",
     "output_type": "stream",
     "text": [
      "C:\\ProgramData\\Anaconda3\\lib\\site-packages\\sklearn\\metrics\\_classification.py:1318: UndefinedMetricWarning: Precision and F-score are ill-defined and being set to 0.0 in labels with no predicted samples. Use `zero_division` parameter to control this behavior.\n",
      "  _warn_prf(average, modifier, msg_start, len(result))\n",
      "C:\\ProgramData\\Anaconda3\\lib\\site-packages\\sklearn\\metrics\\_classification.py:1318: UndefinedMetricWarning: Precision and F-score are ill-defined and being set to 0.0 in labels with no predicted samples. Use `zero_division` parameter to control this behavior.\n",
      "  _warn_prf(average, modifier, msg_start, len(result))\n",
      "C:\\ProgramData\\Anaconda3\\lib\\site-packages\\sklearn\\metrics\\_classification.py:1318: UndefinedMetricWarning: Precision and F-score are ill-defined and being set to 0.0 in labels with no predicted samples. Use `zero_division` parameter to control this behavior.\n",
      "  _warn_prf(average, modifier, msg_start, len(result))\n"
     ]
    }
   ],
   "source": [
    "dt = DecisionTreeClassifier(criterion = 'entropy')\n",
    "dt.fit(xtrain_tfidf,ytrain)\n",
    "dtpred=dt.predict(xtest_tfidf)\n",
    "\n",
    "print(\"Decision Tree Classifier\\n\")\n",
    "print( 'Accuracy Score :',accuracy_score(ytest,dtpred))\n",
    "print ('Report : ')\n",
    "print(classification_report(ytest,dtpred))\n"
   ]
  },
  {
   "cell_type": "code",
   "execution_count": 38,
   "metadata": {
    "colab": {
     "base_uri": "https://localhost:8080/"
    },
    "id": "yBQ9MIdrdU5T",
    "outputId": "928b5dfb-713f-4485-8d8e-d94abfb7834c"
   },
   "outputs": [
    {
     "name": "stdout",
     "output_type": "stream",
     "text": [
      "Gradient Boosting Classifier\n",
      "\n",
      "Accuracy Score : 0.7264150943396226\n",
      "Report : \n",
      "              precision    recall  f1-score   support\n",
      "\n",
      "           0       0.87      0.87      0.87        63\n",
      "           1       0.00      0.00      0.00         1\n",
      "           2       0.00      0.00      0.00         2\n",
      "           4       0.00      0.00      0.00         2\n",
      "           5       0.00      0.00      0.00         0\n",
      "           7       0.00      0.00      0.00         1\n",
      "          10       0.38      0.30      0.33        10\n",
      "          11       0.50      1.00      0.67         3\n",
      "          12       0.67      0.57      0.62         7\n",
      "          13       0.00      0.00      0.00         0\n",
      "          14       0.62      0.56      0.59         9\n",
      "          15       0.64      1.00      0.78         7\n",
      "          16       0.00      0.00      0.00         1\n",
      "\n",
      "    accuracy                           0.73       106\n",
      "   macro avg       0.28      0.33      0.30       106\n",
      "weighted avg       0.71      0.73      0.71       106\n",
      "\n"
     ]
    },
    {
     "name": "stderr",
     "output_type": "stream",
     "text": [
      "C:\\ProgramData\\Anaconda3\\lib\\site-packages\\sklearn\\metrics\\_classification.py:1318: UndefinedMetricWarning: Precision and F-score are ill-defined and being set to 0.0 in labels with no predicted samples. Use `zero_division` parameter to control this behavior.\n",
      "  _warn_prf(average, modifier, msg_start, len(result))\n",
      "C:\\ProgramData\\Anaconda3\\lib\\site-packages\\sklearn\\metrics\\_classification.py:1318: UndefinedMetricWarning: Recall and F-score are ill-defined and being set to 0.0 in labels with no true samples. Use `zero_division` parameter to control this behavior.\n",
      "  _warn_prf(average, modifier, msg_start, len(result))\n",
      "C:\\ProgramData\\Anaconda3\\lib\\site-packages\\sklearn\\metrics\\_classification.py:1318: UndefinedMetricWarning: Precision and F-score are ill-defined and being set to 0.0 in labels with no predicted samples. Use `zero_division` parameter to control this behavior.\n",
      "  _warn_prf(average, modifier, msg_start, len(result))\n",
      "C:\\ProgramData\\Anaconda3\\lib\\site-packages\\sklearn\\metrics\\_classification.py:1318: UndefinedMetricWarning: Recall and F-score are ill-defined and being set to 0.0 in labels with no true samples. Use `zero_division` parameter to control this behavior.\n",
      "  _warn_prf(average, modifier, msg_start, len(result))\n",
      "C:\\ProgramData\\Anaconda3\\lib\\site-packages\\sklearn\\metrics\\_classification.py:1318: UndefinedMetricWarning: Precision and F-score are ill-defined and being set to 0.0 in labels with no predicted samples. Use `zero_division` parameter to control this behavior.\n",
      "  _warn_prf(average, modifier, msg_start, len(result))\n",
      "C:\\ProgramData\\Anaconda3\\lib\\site-packages\\sklearn\\metrics\\_classification.py:1318: UndefinedMetricWarning: Recall and F-score are ill-defined and being set to 0.0 in labels with no true samples. Use `zero_division` parameter to control this behavior.\n",
      "  _warn_prf(average, modifier, msg_start, len(result))\n"
     ]
    }
   ],
   "source": [
    "gvc = GradientBoostingClassifier()\n",
    "gvc.fit(xtrain_tfidf,ytrain)\n",
    "gvcpred=gvc.predict(xtest_tfidf)\n",
    "\n",
    "print(\"Gradient Boosting Classifier\\n\")\n",
    "print( 'Accuracy Score :',accuracy_score(ytest,gvcpred))\n",
    "print ('Report : ')\n",
    "print(classification_report(ytest,gvcpred))\n"
   ]
  },
  {
   "cell_type": "code",
   "execution_count": 47,
   "metadata": {
    "colab": {
     "base_uri": "https://localhost:8080/"
    },
    "id": "lrX5kkINdlWR",
    "outputId": "5da87d6d-e2dc-48d4-9638-07aa737c2f35"
   },
   "outputs": [
    {
     "name": "stdout",
     "output_type": "stream",
     "text": [
      "Naive Bayes Classifier\n",
      "\n",
      "Accuracy Score : 0.6792452830188679\n",
      "Report : \n",
      "              precision    recall  f1-score   support\n",
      "\n",
      "           0       0.84      0.93      0.88        57\n",
      "           1       0.00      0.00      0.00         1\n",
      "           3       0.00      0.00      0.00         1\n",
      "           4       0.00      0.00      0.00         1\n",
      "           7       1.00      0.50      0.67         2\n",
      "          10       0.00      0.00      0.00        11\n",
      "          11       0.40      0.50      0.44         4\n",
      "          12       0.40      0.67      0.50         6\n",
      "          13       0.00      0.00      0.00         2\n",
      "          14       0.67      0.46      0.55        13\n",
      "          15       0.67      1.00      0.80         6\n",
      "          16       0.00      0.00      0.00         2\n",
      "\n",
      "    accuracy                           0.68       106\n",
      "   macro avg       0.33      0.34      0.32       106\n",
      "weighted avg       0.63      0.68      0.64       106\n",
      "\n"
     ]
    },
    {
     "name": "stderr",
     "output_type": "stream",
     "text": [
      "C:\\ProgramData\\Anaconda3\\lib\\site-packages\\sklearn\\metrics\\_classification.py:1318: UndefinedMetricWarning: Precision and F-score are ill-defined and being set to 0.0 in labels with no predicted samples. Use `zero_division` parameter to control this behavior.\n",
      "  _warn_prf(average, modifier, msg_start, len(result))\n",
      "C:\\ProgramData\\Anaconda3\\lib\\site-packages\\sklearn\\metrics\\_classification.py:1318: UndefinedMetricWarning: Precision and F-score are ill-defined and being set to 0.0 in labels with no predicted samples. Use `zero_division` parameter to control this behavior.\n",
      "  _warn_prf(average, modifier, msg_start, len(result))\n",
      "C:\\ProgramData\\Anaconda3\\lib\\site-packages\\sklearn\\metrics\\_classification.py:1318: UndefinedMetricWarning: Precision and F-score are ill-defined and being set to 0.0 in labels with no predicted samples. Use `zero_division` parameter to control this behavior.\n",
      "  _warn_prf(average, modifier, msg_start, len(result))\n"
     ]
    }
   ],
   "source": [
    "lg = LGBMClassifier()\n",
    "lg.fit(xtrain_tfidf,ytrain)\n",
    "lgbpred=lg.predict(xtest_tfidf)\n",
    "\n",
    "print(\"Naive Bayes Classifier\\n\")\n",
    "print( 'Accuracy Score :',accuracy_score(ytest,lgbpred))\n",
    "print ('Report : ')\n",
    "print(classification_report(ytest,lgbpred))\n"
   ]
  },
  {
   "cell_type": "markdown",
   "metadata": {
    "id": "lpolPmV5i-oQ"
   },
   "source": [
    "* Among all models Support Vector Classifier model gives highest accuracy,so we make final prediction using this model."
   ]
  },
  {
   "cell_type": "markdown",
   "metadata": {
    "id": "a037tOaqfAz5"
   },
   "source": [
    "## **Final Support Vector Regression model**"
   ]
  },
  {
   "cell_type": "code",
   "execution_count": 48,
   "metadata": {
    "colab": {
     "base_uri": "https://localhost:8080/"
    },
    "id": "hEvHWXcreMEx",
    "outputId": "e7ac7beb-3ad5-4673-f944-5005b7095b05"
   },
   "outputs": [
    {
     "name": "stdout",
     "output_type": "stream",
     "text": [
      "[ 0  0  0  0  0  0  0  0 11  0  0  0  0  0 11 15  0 12  0  0  0 14  0  0\n",
      "  0  0  0  0  0  0 15 14 11 14 15 15  0 14  0  0  0  0 14  0  0  0 15 14\n",
      " 15 11 12 11 14  0  0  0 15 11  0  0 11  0 15  0  0  0  0 12  0  0 14 12\n",
      "  0  0 14  0  0 14  0  0 15 14  0 14  0  0  0 14 11  0  0 14  0  0  0  0\n",
      "  0  0 14  0 15 12  0 15  0 14]\n",
      "\n",
      "Accuracy Score : 0.7358490566037735\n",
      "Report : \n",
      "              precision    recall  f1-score   support\n",
      "\n",
      "           0       0.83      0.96      0.89        57\n",
      "           1       0.00      0.00      0.00         1\n",
      "           3       0.00      0.00      0.00         1\n",
      "           4       0.00      0.00      0.00         1\n",
      "           7       0.00      0.00      0.00         2\n",
      "          10       0.00      0.00      0.00        11\n",
      "          11       0.50      1.00      0.67         4\n",
      "          12       0.80      0.67      0.73         6\n",
      "          13       0.00      0.00      0.00         2\n",
      "          14       0.56      0.69      0.62        13\n",
      "          15       0.55      1.00      0.71         6\n",
      "          16       0.00      0.00      0.00         2\n",
      "\n",
      "    accuracy                           0.74       106\n",
      "   macro avg       0.27      0.36      0.30       106\n",
      "weighted avg       0.61      0.74      0.66       106\n",
      "\n"
     ]
    },
    {
     "name": "stderr",
     "output_type": "stream",
     "text": [
      "C:\\ProgramData\\Anaconda3\\lib\\site-packages\\sklearn\\metrics\\_classification.py:1318: UndefinedMetricWarning: Precision and F-score are ill-defined and being set to 0.0 in labels with no predicted samples. Use `zero_division` parameter to control this behavior.\n",
      "  _warn_prf(average, modifier, msg_start, len(result))\n",
      "C:\\ProgramData\\Anaconda3\\lib\\site-packages\\sklearn\\metrics\\_classification.py:1318: UndefinedMetricWarning: Precision and F-score are ill-defined and being set to 0.0 in labels with no predicted samples. Use `zero_division` parameter to control this behavior.\n",
      "  _warn_prf(average, modifier, msg_start, len(result))\n",
      "C:\\ProgramData\\Anaconda3\\lib\\site-packages\\sklearn\\metrics\\_classification.py:1318: UndefinedMetricWarning: Precision and F-score are ill-defined and being set to 0.0 in labels with no predicted samples. Use `zero_division` parameter to control this behavior.\n",
      "  _warn_prf(average, modifier, msg_start, len(result))\n"
     ]
    }
   ],
   "source": [
    "model = SVC(kernel='rbf',gamma=1)\n",
    "model.fit(xtrain_tfidf,ytrain)\n",
    "pred=model.predict(xtest_tfidf)\n",
    "\n",
    "print(pred)\n",
    "print('\\nAccuracy Score :',accuracy_score(ytest,pred))\n",
    "print ('Report : ')\n",
    "conf_matrix = confusion_matrix(ytest, pred)\n",
    "print(classification_report(ytest,pred))\n"
   ]
  },
  {
   "cell_type": "code",
   "execution_count": 49,
   "metadata": {
    "colab": {
     "base_uri": "https://localhost:8080/"
    },
    "id": "9d6Cw54_aOF8",
    "outputId": "cd6acbdb-8396-43d8-fc1e-ce0406232e77"
   },
   "outputs": [
    {
     "data": {
      "text/plain": [
       "53"
      ]
     },
     "execution_count": 49,
     "metadata": {},
     "output_type": "execute_result"
    }
   ],
   "source": [
    "k = xtest.sample(1).index[0]\n",
    "k"
   ]
  },
  {
   "cell_type": "markdown",
   "metadata": {
    "id": "Qz5YNqprgGob"
   },
   "source": [
    "## Testing our Model by comparing Actual genre with Predicted genre"
   ]
  },
  {
   "cell_type": "code",
   "execution_count": 50,
   "metadata": {
    "colab": {
     "base_uri": "https://localhost:8080/"
    },
    "id": "FGv6YBWgVmZ7",
    "outputId": "b33851bc-548e-4fe0-daea-d2cfc119054d"
   },
   "outputs": [
    {
     "name": "stdout",
     "output_type": "stream",
     "text": [
      "\n",
      "Book:  Maximum Number of Events That Can Be Attended\n",
      "\n",
      "Predicted genre:  Array\n",
      "\n",
      "Actual genre:  Array \n",
      "\n",
      "-------------------------------\n",
      "\n",
      "Book:  Copy List with Random Pointer\n",
      "\n",
      "Predicted genre:  Linked List\n",
      "\n",
      "Actual genre:  Hash Table \n",
      "\n",
      "-------------------------------\n",
      "\n",
      "Book:  Combination Sum\n",
      "\n",
      "Predicted genre:  Array\n",
      "\n",
      "Actual genre:  Array \n",
      "\n",
      "-------------------------------\n",
      "\n",
      "Book:  Champagne Tower\n",
      "\n",
      "Predicted genre:  Array\n",
      "\n",
      "Actual genre:  Dynamic Programming \n",
      "\n",
      "-------------------------------\n",
      "\n",
      "Book:  Stone Game\n",
      "\n",
      "Predicted genre:  Array\n",
      "\n",
      "Actual genre:  Array \n",
      "\n",
      "-------------------------------\n",
      "\n",
      "Book:  H-Index\n",
      "\n",
      "Predicted genre:  Array\n",
      "\n",
      "Actual genre:  Array \n",
      "\n",
      "-------------------------------\n",
      "\n",
      "Book:  Matrix Block Sum\n",
      "\n",
      "Predicted genre:  Array\n",
      "\n",
      "Actual genre:  Array \n",
      "\n",
      "-------------------------------\n",
      "\n",
      "Book:  Binary Tree Zigzag Level Order Traversal\n",
      "\n",
      "Predicted genre:  Tree\n",
      "\n",
      "Actual genre:  Tree \n",
      "\n",
      "-------------------------------\n",
      "\n",
      "Book:  Reverse Linked List II\n",
      "\n",
      "Predicted genre:  Linked List\n",
      "\n",
      "Actual genre:  Linked List \n",
      "\n",
      "-------------------------------\n",
      "\n",
      "Book:  Matrix Diagonal Sum\n",
      "\n",
      "Predicted genre:  Array\n",
      "\n",
      "Actual genre:  Array \n",
      "\n",
      "-------------------------------\n",
      "\n",
      "Book:  Maximum Number of Events That Can Be Attended\n",
      "\n",
      "Predicted genre:  Array\n",
      "\n",
      "Actual genre:  Array \n",
      "\n",
      "-------------------------------\n",
      "\n",
      "Book:  Search in Rotated Sorted Array II\n",
      "\n",
      "Predicted genre:  Array\n",
      "\n",
      "Actual genre:  Array \n",
      "\n",
      "-------------------------------\n",
      "\n",
      "Book:  Remove Element\n",
      "\n",
      "Predicted genre:  Array\n",
      "\n",
      "Actual genre:  Array \n",
      "\n",
      "-------------------------------\n",
      "\n",
      "Book:  Maximum Number of Achievable Transfer Requests\n",
      "\n",
      "Predicted genre:  Array\n",
      "\n",
      "Actual genre:  Array \n",
      "\n",
      "-------------------------------\n",
      "\n",
      "Book:  Remove K Digits\n",
      "\n",
      "Predicted genre:  Array\n",
      "\n",
      "Actual genre:  String \n",
      "\n",
      "-------------------------------\n",
      "\n",
      "Book:  Top K Frequent Words\n",
      "\n",
      "Predicted genre:  String\n",
      "\n",
      "Actual genre:  Hash Table \n",
      "\n",
      "-------------------------------\n",
      "\n",
      "Book:  Valid Palindrome\n",
      "\n",
      "Predicted genre:  String\n",
      "\n",
      "Actual genre:  Two Pointers \n",
      "\n",
      "-------------------------------\n",
      "\n",
      "Book:  Remove Zero Sum Consecutive Nodes from Linked List\n",
      "\n",
      "Predicted genre:  Linked List\n",
      "\n",
      "Actual genre:  Hash Table \n",
      "\n",
      "-------------------------------\n",
      "\n",
      "Book:  Game of Life\n",
      "\n",
      "Predicted genre:  Array\n",
      "\n",
      "Actual genre:  Array \n",
      "\n",
      "-------------------------------\n",
      "\n",
      "Book:  H-Index\n",
      "\n",
      "Predicted genre:  Array\n",
      "\n",
      "Actual genre:  Array \n",
      "\n",
      "-------------------------------\n",
      "\n",
      "Book:  Unique Paths III\n",
      "\n",
      "Predicted genre:  Array\n",
      "\n",
      "Actual genre:  Array \n",
      "\n",
      "-------------------------------\n",
      "\n",
      "Book:  Diameter of Binary Tree\n",
      "\n",
      "Predicted genre:  Tree\n",
      "\n",
      "Actual genre:  Tree \n",
      "\n",
      "-------------------------------\n",
      "\n",
      "Book:  Daily Temperatures\n",
      "\n",
      "Predicted genre:  Array\n",
      "\n",
      "Actual genre:  Array \n",
      "\n",
      "-------------------------------\n",
      "\n",
      "Book:  Maximal Rectangle\n",
      "\n",
      "Predicted genre:  Array\n",
      "\n",
      "Actual genre:  Array \n",
      "\n",
      "-------------------------------\n",
      "\n",
      "Book:  Island Perimeter\n",
      "\n",
      "Predicted genre:  Array\n",
      "\n",
      "Actual genre:  Array \n",
      "\n",
      "-------------------------------\n",
      "\n",
      "Book:  Combination Sum II\n",
      "\n",
      "Predicted genre:  Array\n",
      "\n",
      "Actual genre:  Array \n",
      "\n",
      "-------------------------------\n",
      "\n",
      "Book:  Find Unique Binary String\n",
      "\n",
      "Predicted genre:  Array\n",
      "\n",
      "Actual genre:  Array \n",
      "\n",
      "-------------------------------\n",
      "\n",
      "Book:  Find the Difference\n",
      "\n",
      "Predicted genre:  String\n",
      "\n",
      "Actual genre:  Hash Table \n",
      "\n",
      "-------------------------------\n",
      "\n",
      "Book:  House Robber II\n",
      "\n",
      "Predicted genre:  Array\n",
      "\n",
      "Actual genre:  Array \n",
      "\n",
      "-------------------------------\n",
      "\n",
      "Book:  Longest Common Subsequence\n",
      "\n",
      "Predicted genre:  String\n",
      "\n",
      "Actual genre:  String \n",
      "\n",
      "-------------------------------\n",
      "\n",
      "Book:  Delete Leaves With a Given Value\n",
      "\n",
      "Predicted genre:  Tree\n",
      "\n",
      "Actual genre:  Tree \n",
      "\n",
      "-------------------------------\n",
      "\n",
      "Book:  3Sum Closest\n",
      "\n",
      "Predicted genre:  Array\n",
      "\n",
      "Actual genre:  Array \n",
      "\n",
      "-------------------------------\n",
      "\n",
      "Book:  Swap Nodes in Pairs\n",
      "\n",
      "Predicted genre:  Linked List\n",
      "\n",
      "Actual genre:  Linked List \n",
      "\n",
      "-------------------------------\n",
      "\n",
      "Book:  Top K Frequent Words\n",
      "\n",
      "Predicted genre:  String\n",
      "\n",
      "Actual genre:  Hash Table \n",
      "\n",
      "-------------------------------\n",
      "\n",
      "Book:  Diameter of Binary Tree\n",
      "\n",
      "Predicted genre:  Tree\n",
      "\n",
      "Actual genre:  Tree \n",
      "\n",
      "-------------------------------\n",
      "\n",
      "Book:  Matrix Diagonal Sum\n",
      "\n",
      "Predicted genre:  Array\n",
      "\n",
      "Actual genre:  Array \n",
      "\n",
      "-------------------------------\n",
      "\n",
      "Book:  Edit Distance\n",
      "\n",
      "Predicted genre:  String\n",
      "\n",
      "Actual genre:  String \n",
      "\n",
      "-------------------------------\n",
      "\n",
      "Book:  Linked List Cycle II\n",
      "\n",
      "Predicted genre:  Linked List\n",
      "\n",
      "Actual genre:  Hash Table \n",
      "\n",
      "-------------------------------\n",
      "\n",
      "Book:  Serialize and Deserialize Binary Tree\n",
      "\n",
      "Predicted genre:  Tree\n",
      "\n",
      "Actual genre:  String \n",
      "\n",
      "-------------------------------\n",
      "\n",
      "Book:  Edit Distance\n",
      "\n",
      "Predicted genre:  String\n",
      "\n",
      "Actual genre:  String \n",
      "\n",
      "-------------------------------\n",
      "\n",
      "Book:  Self Dividing Numbers\n",
      "\n",
      "Predicted genre:  Array\n",
      "\n",
      "Actual genre:  Math \n",
      "\n",
      "-------------------------------\n",
      "\n",
      "Book:  Copy List with Random Pointer\n",
      "\n",
      "Predicted genre:  Linked List\n",
      "\n",
      "Actual genre:  Hash Table \n",
      "\n",
      "-------------------------------\n",
      "\n",
      "Book:  Gray Code\n",
      "\n",
      "Predicted genre:  Math\n",
      "\n",
      "Actual genre:  Math \n",
      "\n",
      "-------------------------------\n",
      "\n",
      "Book:  Self Dividing Numbers\n",
      "\n",
      "Predicted genre:  Array\n",
      "\n",
      "Actual genre:  Math \n",
      "\n",
      "-------------------------------\n",
      "\n",
      "Book:  N-ary Tree Postorder Traversal\n",
      "\n",
      "Predicted genre:  Tree\n",
      "\n",
      "Actual genre:  Stack \n",
      "\n",
      "-------------------------------\n",
      "\n",
      "Book:  Number of Islands\n",
      "\n",
      "Predicted genre:  Array\n",
      "\n",
      "Actual genre:  Array \n",
      "\n",
      "-------------------------------\n",
      "\n",
      "Book:  Remove All Adjacent Duplicates In String\n",
      "\n",
      "Predicted genre:  String\n",
      "\n",
      "Actual genre:  String \n",
      "\n",
      "-------------------------------\n",
      "\n",
      "Book:  Two Sum IV - Input is a BST\n",
      "\n",
      "Predicted genre:  Array\n",
      "\n",
      "Actual genre:  Hash Table \n",
      "\n",
      "-------------------------------\n",
      "\n",
      "Book:  Defanging an IP Address\n",
      "\n",
      "Predicted genre:  Array\n",
      "\n",
      "Actual genre:  String \n",
      "\n",
      "-------------------------------\n",
      "\n",
      "Book:  Remove Element\n",
      "\n",
      "Predicted genre:  Array\n",
      "\n",
      "Actual genre:  Array \n",
      "\n",
      "-------------------------------\n"
     ]
    }
   ],
   "source": [
    "def process(q):\n",
    "    q = clean(q)\n",
    "    q = removestopwords(q)\n",
    "    q = lematizing(q)\n",
    "    q = stemming(q)\n",
    "    q_vec = tfidf_vectorizer.transform([q])\n",
    "    q_pred = model.predict(q_vec)\n",
    "    return le.inverse_transform(q_pred)[0]\n",
    "\n",
    "for i in range(50):\n",
    "  k = xtest.sample(1).index[0]\n",
    "  \n",
    "  print(\"\\nBook: \", books['title'][k] )\n",
    "  print(\"\\nPredicted genre: \", process(xtest[k]))\n",
    "  print(\"\\nActual genre: \",books['tags'][k], \"\\n\")\n",
    "  print(\"-------------------------------\")\n"
   ]
  },
  {
   "cell_type": "code",
   "execution_count": 7,
   "metadata": {
    "id": "YKLDvM5Mi8eV"
   },
   "outputs": [
    {
     "name": "stdout",
     "output_type": "stream",
     "text": [
      "Defaulting to user installation because normal site-packages is not writeable\n",
      "Requirement already satisfied: lightgbm in c:\\users\\hp\\appdata\\roaming\\python\\python39\\site-packages (3.3.5)\n",
      "Requirement already satisfied: scikit-learn!=0.22.0 in c:\\programdata\\anaconda3\\lib\\site-packages (from lightgbm) (1.0.2)\n",
      "Requirement already satisfied: scipy in c:\\programdata\\anaconda3\\lib\\site-packages (from lightgbm) (1.9.1)\n",
      "Requirement already satisfied: numpy in c:\\programdata\\anaconda3\\lib\\site-packages (from lightgbm) (1.21.5)\n",
      "Requirement already satisfied: wheel in c:\\programdata\\anaconda3\\lib\\site-packages (from lightgbm) (0.37.1)\n",
      "Requirement already satisfied: threadpoolctl>=2.0.0 in c:\\programdata\\anaconda3\\lib\\site-packages (from scikit-learn!=0.22.0->lightgbm) (2.2.0)\n",
      "Requirement already satisfied: joblib>=0.11 in c:\\programdata\\anaconda3\\lib\\site-packages (from scikit-learn!=0.22.0->lightgbm) (1.1.0)\n"
     ]
    }
   ],
   "source": [
    "!pip install lightgbm\n"
   ]
  },
  {
   "cell_type": "code",
   "execution_count": 10,
   "metadata": {},
   "outputs": [
    {
     "name": "stdout",
     "output_type": "stream",
     "text": [
      "Collecting package metadata (current_repodata.json): ...working... done\n",
      "Solving environment: ...working... failed with initial frozen solve. Retrying with flexible solve.\n",
      "Collecting package metadata (repodata.json): ...working... done\n",
      "Solving environment: ...working... failed with initial frozen solve. Retrying with flexible solve.\n"
     ]
    },
    {
     "name": "stderr",
     "output_type": "stream",
     "text": [
      "\n",
      "PackagesNotFoundError: The following packages are not available from current channels:\n",
      "\n",
      "  - lighgtgbm\n",
      "\n",
      "Current channels:\n",
      "\n",
      "  - https://conda.anaconda.org/conda-forge/win-64\n",
      "  - https://conda.anaconda.org/conda-forge/noarch\n",
      "  - https://repo.anaconda.com/pkgs/main/win-64\n",
      "  - https://repo.anaconda.com/pkgs/main/noarch\n",
      "  - https://repo.anaconda.com/pkgs/r/win-64\n",
      "  - https://repo.anaconda.com/pkgs/r/noarch\n",
      "  - https://repo.anaconda.com/pkgs/msys2/win-64\n",
      "  - https://repo.anaconda.com/pkgs/msys2/noarch\n",
      "\n",
      "To search for alternate channels that may provide the conda package you're\n",
      "looking for, navigate to\n",
      "\n",
      "    https://anaconda.org\n",
      "\n",
      "and use the search bar at the top of the page.\n",
      "\n",
      "\n"
     ]
    },
    {
     "name": "stdout",
     "output_type": "stream",
     "text": [
      "# packages in environment at C:\\ProgramData\\Anaconda3:\n",
      "#\n",
      "# Name                    Version                   Build  Channel\n",
      "_ipyw_jlab_nb_ext_conf    0.1.0            py39haa95532_0  \n",
      "alabaster                 0.7.12             pyhd3eb1b0_0  \n",
      "anaconda                  2022.10                  py39_0  \n",
      "anaconda-client           1.11.0           py39haa95532_0  \n",
      "anaconda-navigator        2.4.0            py39haa95532_0  \n",
      "anaconda-project          0.11.1           py39haa95532_0  \n",
      "anyio                     3.5.0            py39haa95532_0  \n",
      "appdirs                   1.4.4              pyhd3eb1b0_0  \n",
      "argon2-cffi               21.3.0             pyhd3eb1b0_0  \n",
      "argon2-cffi-bindings      21.2.0           py39h2bbff1b_0  \n",
      "arrow                     1.2.2              pyhd3eb1b0_0  \n",
      "astroid                   2.11.7           py39haa95532_0  \n",
      "astropy                   5.1              py39h080aedc_0  \n",
      "atomicwrites              1.4.0                      py_0  \n",
      "attrs                     21.4.0             pyhd3eb1b0_0  \n",
      "automat                   20.2.0                     py_0  \n",
      "autopep8                  1.6.0              pyhd3eb1b0_1  \n",
      "babel                     2.9.1              pyhd3eb1b0_0  \n",
      "backcall                  0.2.0              pyhd3eb1b0_0  \n",
      "backports                 1.1                pyhd3eb1b0_0  \n",
      "backports.functools_lru_cache 1.6.4              pyhd3eb1b0_0  \n",
      "backports.tempfile        1.0                pyhd3eb1b0_1  \n",
      "backports.weakref         1.0.post1                  py_1  \n",
      "bcrypt                    3.2.0            py39h2bbff1b_1  \n",
      "beautifulsoup4            4.11.1           py39haa95532_0  \n",
      "binaryornot               0.4.4              pyhd3eb1b0_1  \n",
      "bitarray                  2.5.1            py39h2bbff1b_0  \n",
      "bkcharts                  0.2              py39haa95532_1  \n",
      "black                     22.6.0           py39haa95532_0  \n",
      "blas                      1.0                         mkl  \n",
      "bleach                    4.1.0              pyhd3eb1b0_0  \n",
      "blosc                     1.21.0               h19a0ad4_1  \n",
      "bokeh                     2.4.3            py39haa95532_0  \n",
      "boto3                     1.24.28          py39haa95532_0  \n",
      "botocore                  1.27.28          py39haa95532_0  \n",
      "bottleneck                1.3.5            py39h080aedc_0  \n",
      "brotli                    1.0.9                h2bbff1b_7  \n",
      "brotli-bin                1.0.9                h2bbff1b_7  \n",
      "brotlipy                  0.7.0           py39h2bbff1b_1003  \n",
      "bzip2                     1.0.8                he774522_0  \n",
      "ca-certificates           2022.07.19           haa95532_0  \n",
      "certifi                   2022.9.14        py39haa95532_0  \n",
      "cffi                      1.15.1           py39h2bbff1b_0  \n",
      "cfitsio                   3.470                h2bbff1b_7  \n",
      "chardet                   4.0.0           py39haa95532_1003  \n",
      "charls                    2.2.0                h6c2663c_0  \n",
      "charset-normalizer        2.0.4              pyhd3eb1b0_0  \n",
      "click                     8.0.4            py39haa95532_0  \n",
      "cloudpickle               2.0.0              pyhd3eb1b0_0  \n",
      "clyent                    1.2.2            py39haa95532_1  \n",
      "colorama                  0.4.5            py39haa95532_0  \n",
      "colorcet                  3.0.0            py39haa95532_0  \n",
      "comtypes                  1.1.10          py39haa95532_1002  \n",
      "conda                     22.9.0           py39haa95532_0  \n",
      "conda-build               3.22.0           py39haa95532_0  \n",
      "conda-content-trust       0.1.3            py39haa95532_0  \n",
      "conda-env                 2.6.0                haa95532_1  \n",
      "conda-pack                0.6.0              pyhd3eb1b0_0  \n",
      "conda-package-handling    1.9.0            py39h8cc25b3_0  \n",
      "conda-repo-cli            1.0.20           py39haa95532_0  \n",
      "conda-token               0.4.0              pyhd3eb1b0_0  \n",
      "conda-verify              3.4.2                      py_1  \n",
      "console_shortcut          0.1.1                         4  \n",
      "constantly                15.1.0             pyh2b92418_0  \n",
      "cookiecutter              1.7.3              pyhd3eb1b0_0  \n",
      "cryptography              37.0.1           py39h21b164f_0  \n",
      "cssselect                 1.1.0              pyhd3eb1b0_0  \n",
      "curl                      7.84.0               h2bbff1b_0  \n",
      "cycler                    0.11.0             pyhd3eb1b0_0  \n",
      "cython                    0.29.32          py39hd77b12b_0  \n",
      "cytoolz                   0.11.0           py39h2bbff1b_0  \n",
      "daal4py                   2021.6.0         py39h757b272_1  \n",
      "dal                       2021.6.0           h59b6b97_874  \n",
      "dask                      2022.7.0         py39haa95532_0  \n",
      "dask-core                 2022.7.0         py39haa95532_0  \n",
      "dataclasses               0.8                pyh6d0b6a4_7  \n",
      "datashader                0.14.1           py39haa95532_0  \n",
      "datashape                 0.5.4            py39haa95532_1  \n",
      "debugpy                   1.5.1            py39hd77b12b_0  \n",
      "decorator                 5.1.1              pyhd3eb1b0_0  \n",
      "defusedxml                0.7.1              pyhd3eb1b0_0  \n",
      "diff-match-patch          20200713           pyhd3eb1b0_0  \n",
      "dill                      0.3.4              pyhd3eb1b0_0  \n",
      "distributed               2022.7.0         py39haa95532_0  \n",
      "docutils                  0.18.1           py39haa95532_3  \n",
      "entrypoints               0.4              py39haa95532_0  \n",
      "et_xmlfile                1.1.0            py39haa95532_0  \n",
      "fftw                      3.3.9                h2bbff1b_1  \n",
      "filelock                  3.6.0              pyhd3eb1b0_0  \n",
      "flake8                    4.0.1              pyhd3eb1b0_1  \n",
      "flask                     1.1.2              pyhd3eb1b0_0  \n",
      "fonttools                 4.25.0             pyhd3eb1b0_0  \n",
      "freetype                  2.10.4               hd328e21_0  \n",
      "fsspec                    2022.7.1         py39haa95532_0  \n",
      "future                    0.18.2           py39haa95532_1  \n",
      "gensim                    4.1.2            py39hd77b12b_0  \n",
      "giflib                    5.2.1                h62dcd97_0  \n",
      "glob2                     0.7                pyhd3eb1b0_0  \n",
      "greenlet                  1.1.1            py39hd77b12b_0  \n",
      "h5py                      3.7.0            py39h3de5c98_0  \n",
      "hdf5                      1.10.6               h1756f20_1  \n",
      "heapdict                  1.0.1              pyhd3eb1b0_0  \n",
      "holoviews                 1.15.0           py39haa95532_0  \n",
      "hvplot                    0.8.0            py39haa95532_0  \n",
      "hyperlink                 21.0.0             pyhd3eb1b0_0  \n",
      "icc_rt                    2022.1.0             h6049295_2  \n",
      "icu                       58.2                 ha925a31_3  \n",
      "idna                      3.3                pyhd3eb1b0_0  \n",
      "imagecodecs               2021.8.26        py39hc0a7faf_1  \n",
      "imageio                   2.19.3           py39haa95532_0  \n",
      "imagesize                 1.4.1            py39haa95532_0  \n",
      "importlib-metadata        4.11.3           py39haa95532_0  \n",
      "importlib_metadata        4.11.3               hd3eb1b0_0  \n",
      "incremental               21.3.0             pyhd3eb1b0_0  \n",
      "inflection                0.5.1            py39haa95532_0  \n",
      "iniconfig                 1.1.1              pyhd3eb1b0_0  \n",
      "intake                    0.6.5              pyhd3eb1b0_0  \n",
      "intel-openmp              2021.4.0          haa95532_3556  \n",
      "intervaltree              3.1.0              pyhd3eb1b0_0  \n",
      "ipykernel                 6.15.2           py39haa95532_0  \n",
      "ipython                   7.31.1           py39haa95532_1  \n",
      "ipython_genutils          0.2.0              pyhd3eb1b0_1  \n",
      "ipywidgets                7.6.5              pyhd3eb1b0_1  \n",
      "isort                     5.9.3              pyhd3eb1b0_0  \n",
      "itemadapter               0.3.0              pyhd3eb1b0_0  \n",
      "itemloaders               1.0.4              pyhd3eb1b0_1  \n",
      "itsdangerous              2.0.1              pyhd3eb1b0_0  \n",
      "jdcal                     1.4.1              pyhd3eb1b0_0  \n",
      "jedi                      0.18.1           py39haa95532_1  \n",
      "jellyfish                 0.9.0            py39h2bbff1b_0  \n",
      "jinja2                    2.11.3             pyhd3eb1b0_0  \n",
      "jinja2-time               0.2.0              pyhd3eb1b0_3  \n",
      "jmespath                  0.10.0             pyhd3eb1b0_0  \n",
      "joblib                    1.1.0              pyhd3eb1b0_0  \n",
      "jpeg                      9e                   h2bbff1b_0  \n",
      "jq                        1.6                  haa95532_1  \n",
      "json5                     0.9.6              pyhd3eb1b0_0  \n",
      "jsonschema                4.16.0           py39haa95532_0  \n",
      "jupyter                   1.0.0            py39haa95532_8  \n",
      "jupyter_client            7.3.4            py39haa95532_0  \n",
      "jupyter_console           6.4.3              pyhd3eb1b0_0  \n",
      "jupyter_core              4.11.1           py39haa95532_0  \n",
      "jupyter_server            1.18.1           py39haa95532_0  \n",
      "jupyterlab                3.4.4            py39haa95532_0  \n",
      "jupyterlab_pygments       0.1.2                      py_0  \n",
      "jupyterlab_server         2.10.3             pyhd3eb1b0_1  \n",
      "jupyterlab_widgets        1.0.0              pyhd3eb1b0_1  \n",
      "keyring                   23.4.0           py39haa95532_0  \n",
      "kiwisolver                1.4.2            py39hd77b12b_0  \n",
      "lazy-object-proxy         1.6.0            py39h2bbff1b_0  \n",
      "lcms2                     2.12                 h83e58a3_0  \n",
      "lerc                      3.0                  hd77b12b_0  \n",
      "libaec                    1.0.4                h33f27b4_1  \n",
      "libarchive                3.6.1                hebabd0d_0  \n",
      "libbrotlicommon           1.0.9                h2bbff1b_7  \n",
      "libbrotlidec              1.0.9                h2bbff1b_7  \n",
      "libbrotlienc              1.0.9                h2bbff1b_7  \n",
      "libcurl                   7.84.0               h86230a5_0  \n",
      "libdeflate                1.8                  h2bbff1b_5  \n",
      "libiconv                  1.16                 h2bbff1b_2  \n",
      "liblief                   0.11.5               hd77b12b_1  \n",
      "libpng                    1.6.37               h2a8f88b_0  \n",
      "libsodium                 1.0.18               h62dcd97_0  \n",
      "libspatialindex           1.9.3                h6c2663c_0  \n",
      "libssh2                   1.10.0               hcd4344a_0  \n",
      "libtiff                   4.4.0                h8a3f274_0  \n",
      "libwebp                   1.2.2                h2bbff1b_0  \n",
      "libxml2                   2.9.14               h0ad7f3c_0  \n",
      "libxslt                   1.1.35               h2bbff1b_0  \n",
      "libzopfli                 1.0.3                ha925a31_0  \n",
      "llvmlite                  0.38.0           py39h23ce68f_0  \n",
      "locket                    1.0.0            py39haa95532_0  \n",
      "lxml                      4.9.1            py39h1985fb9_0  \n",
      "lz4                       3.1.3            py39h2bbff1b_0  \n",
      "lz4-c                     1.9.3                h2bbff1b_1  \n",
      "lzo                       2.10                 he774522_2  \n",
      "m2-msys2-runtime          2.5.0.17080.65c939c               3  \n",
      "m2-patch                  2.7.5                         2  \n",
      "m2w64-libwinpthread-git   5.0.0.4634.697f757               2  \n",
      "markdown                  3.3.4            py39haa95532_0  \n",
      "markupsafe                2.0.1            py39h2bbff1b_0  \n",
      "matplotlib                3.5.2            py39haa95532_0  \n",
      "matplotlib-base           3.5.2            py39hd77b12b_0  \n",
      "matplotlib-inline         0.1.6            py39haa95532_0  \n",
      "mccabe                    0.6.1            py39haa95532_2  \n",
      "menuinst                  1.4.19           py39h59b6b97_0  \n",
      "mistune                   0.8.4           py39h2bbff1b_1000  \n",
      "mkl                       2021.4.0           haa95532_640  \n",
      "mkl-service               2.4.0            py39h2bbff1b_0  \n",
      "mkl_fft                   1.3.1            py39h277e83a_0  \n",
      "mkl_random                1.2.2            py39hf11a4ad_0  \n",
      "mock                      4.0.3              pyhd3eb1b0_0  \n",
      "mpmath                    1.2.1            py39haa95532_0  \n",
      "msgpack-python            1.0.3            py39h59b6b97_0  \n",
      "msys2-conda-epoch         20160418                      1  \n",
      "multipledispatch          0.6.0            py39haa95532_0  \n",
      "munkres                   1.1.4                      py_0  \n",
      "mypy_extensions           0.4.3            py39haa95532_1  \n",
      "navigator-updater         0.3.0            py39haa95532_0  \n",
      "nbclassic                 0.3.5              pyhd3eb1b0_0  \n",
      "nbclient                  0.5.13           py39haa95532_0  \n",
      "nbconvert                 6.4.4            py39haa95532_0  \n",
      "nbformat                  5.5.0            py39haa95532_0  \n",
      "nest-asyncio              1.5.5            py39haa95532_0  \n",
      "networkx                  2.8.4            py39haa95532_0  \n",
      "nltk                      3.7                pyhd3eb1b0_0  \n",
      "nose                      1.3.7           pyhd3eb1b0_1008  \n",
      "notebook                  6.4.12           py39haa95532_0  \n",
      "numba                     0.55.1           py39hf11a4ad_0  \n",
      "numexpr                   2.8.3            py39hb80d3ca_0  \n",
      "numpy                     1.21.5           py39h7a0a035_3  \n",
      "numpy-base                1.21.5           py39hca35cd5_3  \n",
      "numpydoc                  1.4.0            py39haa95532_0  \n",
      "olefile                   0.46               pyhd3eb1b0_0  \n",
      "openjpeg                  2.4.0                h4fc8c34_0  \n",
      "openpyxl                  3.0.10           py39h2bbff1b_0  \n",
      "openssl                   1.1.1q               h2bbff1b_0  \n",
      "packaging                 21.3               pyhd3eb1b0_0  \n",
      "pandas                    1.4.4            py39hd77b12b_0  \n",
      "pandocfilters             1.5.0              pyhd3eb1b0_0  \n",
      "panel                     0.13.1           py39haa95532_0  \n",
      "param                     1.12.0             pyhd3eb1b0_0  \n",
      "paramiko                  2.8.1              pyhd3eb1b0_0  \n",
      "parsel                    1.6.0            py39haa95532_0  \n",
      "parso                     0.8.3              pyhd3eb1b0_0  \n",
      "partd                     1.2.0              pyhd3eb1b0_1  \n",
      "pathlib                   1.0.1              pyhd3eb1b0_1  \n",
      "pathspec                  0.9.0            py39haa95532_0  \n",
      "patsy                     0.5.2            py39haa95532_1  \n",
      "pep8                      1.7.1            py39haa95532_1  \n",
      "pexpect                   4.8.0              pyhd3eb1b0_3  \n",
      "pickleshare               0.7.5           pyhd3eb1b0_1003  \n",
      "pillow                    9.2.0            py39hdc2b20a_1  \n",
      "pip                       22.2.2           py39haa95532_0  \n",
      "pkginfo                   1.8.2              pyhd3eb1b0_0  \n",
      "platformdirs              2.5.2            py39haa95532_0  \n",
      "plotly                    5.9.0            py39haa95532_0  \n",
      "pluggy                    1.0.0            py39haa95532_1  \n",
      "powershell_shortcut       0.0.1                         3  \n",
      "poyo                      0.5.0              pyhd3eb1b0_0  \n",
      "prometheus_client         0.14.1           py39haa95532_0  \n",
      "prompt-toolkit            3.0.20             pyhd3eb1b0_0  \n",
      "prompt_toolkit            3.0.20               hd3eb1b0_0  \n",
      "protego                   0.1.16                     py_0  \n",
      "psutil                    5.9.0            py39h2bbff1b_0  \n",
      "ptyprocess                0.7.0              pyhd3eb1b0_2  \n",
      "py                        1.11.0             pyhd3eb1b0_0  \n",
      "py-lief                   0.11.5           py39hd77b12b_1  \n",
      "pyasn1                    0.4.8              pyhd3eb1b0_0  \n",
      "pyasn1-modules            0.2.8                      py_0  \n",
      "pycodestyle               2.8.0              pyhd3eb1b0_0  \n",
      "pycosat                   0.6.3            py39h2bbff1b_0  \n",
      "pycparser                 2.21               pyhd3eb1b0_0  \n",
      "pyct                      0.4.8            py39haa95532_1  \n",
      "pycurl                    7.45.1           py39hcd4344a_0  \n",
      "pydispatcher              2.0.5            py39haa95532_2  \n",
      "pydocstyle                6.1.1              pyhd3eb1b0_0  \n",
      "pyerfa                    2.0.0            py39h2bbff1b_0  \n",
      "pyflakes                  2.4.0              pyhd3eb1b0_0  \n",
      "pygments                  2.11.2             pyhd3eb1b0_0  \n",
      "pyhamcrest                2.0.2              pyhd3eb1b0_2  \n",
      "pyjwt                     2.4.0            py39haa95532_0  \n",
      "pylint                    2.14.5           py39haa95532_0  \n",
      "pyls-spyder               0.4.0              pyhd3eb1b0_0  \n",
      "pynacl                    1.5.0            py39h8cc25b3_0  \n",
      "pyodbc                    4.0.34           py39hd77b12b_0  \n",
      "pyopenssl                 22.0.0             pyhd3eb1b0_0  \n",
      "pyparsing                 3.0.9            py39haa95532_0  \n",
      "pyqt                      5.9.2            py39hd77b12b_6  \n",
      "pyrsistent                0.18.0           py39h196d8e1_0  \n",
      "pysocks                   1.7.1            py39haa95532_0  \n",
      "pytables                  3.6.1            py39h56d22b6_1  \n",
      "pytest                    7.1.2            py39haa95532_0  \n",
      "python                    3.9.13               h6244533_1  \n",
      "python-dateutil           2.8.2              pyhd3eb1b0_0  \n",
      "python-fastjsonschema     2.16.2           py39haa95532_0  \n",
      "python-libarchive-c       2.9                pyhd3eb1b0_1  \n",
      "python-lsp-black          1.0.0              pyhd3eb1b0_0  \n",
      "python-lsp-jsonrpc        1.0.0              pyhd3eb1b0_0  \n",
      "python-lsp-server         1.3.3              pyhd3eb1b0_0  \n",
      "python-slugify            5.0.2              pyhd3eb1b0_0  \n",
      "python-snappy             0.6.0            py39hd77b12b_3  \n",
      "pytz                      2022.1           py39haa95532_0  \n",
      "pyviz_comms               2.0.2              pyhd3eb1b0_0  \n",
      "pywavelets                1.3.0            py39h2bbff1b_0  \n",
      "pywin32                   302              py39h2bbff1b_2  \n",
      "pywin32-ctypes            0.2.0           py39haa95532_1000  \n",
      "pywinpty                  2.0.2            py39h5da7b33_0  \n",
      "pyyaml                    6.0              py39h2bbff1b_1  \n",
      "pyzmq                     23.2.0           py39hd77b12b_0  \n",
      "qdarkstyle                3.0.2              pyhd3eb1b0_0  \n",
      "qstylizer                 0.1.10             pyhd3eb1b0_0  \n",
      "qt                        5.9.7            vc14h73c81de_0  \n",
      "qtawesome                 1.0.3              pyhd3eb1b0_0  \n",
      "qtconsole                 5.2.2              pyhd3eb1b0_0  \n",
      "qtpy                      2.2.0            py39haa95532_0  \n",
      "queuelib                  1.5.0            py39haa95532_0  \n",
      "regex                     2022.7.9         py39h2bbff1b_0  \n",
      "requests                  2.28.1           py39haa95532_0  \n",
      "requests-file             1.5.1              pyhd3eb1b0_0  \n",
      "rope                      0.22.0             pyhd3eb1b0_0  \n",
      "rtree                     0.9.7            py39h2eaa2aa_1  \n",
      "ruamel_yaml               0.15.100         py39h2bbff1b_0  \n",
      "s3transfer                0.6.0            py39haa95532_0  \n",
      "scikit-image              0.19.2           py39hf11a4ad_0  \n",
      "scikit-learn              1.0.2            py39hf11a4ad_1  \n",
      "scikit-learn-intelex      2021.6.0         py39haa95532_0  \n",
      "scipy                     1.9.1            py39he11b74f_0  \n",
      "scrapy                    2.6.2            py39haa95532_0  \n",
      "seaborn                   0.11.2             pyhd3eb1b0_0  \n",
      "send2trash                1.8.0              pyhd3eb1b0_1  \n",
      "service_identity          18.1.0             pyhd3eb1b0_1  \n",
      "setuptools                63.4.1           py39haa95532_0  \n",
      "sip                       4.19.13          py39hd77b12b_0  \n",
      "six                       1.16.0             pyhd3eb1b0_1  \n",
      "smart_open                5.2.1            py39haa95532_0  \n",
      "snappy                    1.1.9                h6c2663c_0  \n",
      "sniffio                   1.2.0            py39haa95532_1  \n",
      "snowballstemmer           2.2.0              pyhd3eb1b0_0  \n",
      "sortedcollections         2.1.0              pyhd3eb1b0_0  \n",
      "sortedcontainers          2.4.0              pyhd3eb1b0_0  \n",
      "soupsieve                 2.3.1              pyhd3eb1b0_0  \n",
      "sphinx                    5.0.2            py39haa95532_0  \n",
      "sphinxcontrib-applehelp   1.0.2              pyhd3eb1b0_0  \n",
      "sphinxcontrib-devhelp     1.0.2              pyhd3eb1b0_0  \n",
      "sphinxcontrib-htmlhelp    2.0.0              pyhd3eb1b0_0  \n",
      "sphinxcontrib-jsmath      1.0.1              pyhd3eb1b0_0  \n",
      "sphinxcontrib-qthelp      1.0.3              pyhd3eb1b0_0  \n",
      "sphinxcontrib-serializinghtml 1.1.5              pyhd3eb1b0_0  \n",
      "spyder                    5.2.2            py39haa95532_1  \n",
      "spyder-kernels            2.2.1            py39haa95532_0  \n",
      "sqlalchemy                1.4.39           py39h2bbff1b_0  \n",
      "sqlite                    3.39.3               h2bbff1b_0  \n",
      "statsmodels               0.13.2           py39h2bbff1b_0  \n",
      "sympy                     1.10.1           py39haa95532_0  \n",
      "tabulate                  0.8.10           py39haa95532_0  \n",
      "tbb                       2021.6.0             h59b6b97_0  \n",
      "tbb4py                    2021.6.0         py39h59b6b97_0  \n",
      "tblib                     1.7.0              pyhd3eb1b0_0  \n",
      "tenacity                  8.0.1            py39haa95532_1  \n",
      "terminado                 0.13.1           py39haa95532_0  \n",
      "testpath                  0.6.0            py39haa95532_0  \n",
      "text-unidecode            1.3                pyhd3eb1b0_0  \n",
      "textdistance              4.2.1              pyhd3eb1b0_0  \n",
      "threadpoolctl             2.2.0              pyh0d69192_0  \n",
      "three-merge               0.1.1              pyhd3eb1b0_0  \n",
      "tifffile                  2021.7.2           pyhd3eb1b0_2  \n",
      "tinycss                   0.4             pyhd3eb1b0_1002  \n",
      "tk                        8.6.12               h2bbff1b_0  \n",
      "tldextract                3.2.0              pyhd3eb1b0_0  \n",
      "toml                      0.10.2             pyhd3eb1b0_0  \n",
      "tomli                     2.0.1            py39haa95532_0  \n",
      "tomlkit                   0.11.1           py39haa95532_0  \n",
      "toolz                     0.11.2             pyhd3eb1b0_0  \n",
      "tornado                   6.1              py39h2bbff1b_0  \n",
      "tqdm                      4.64.1           py39haa95532_0  \n",
      "traitlets                 5.1.1              pyhd3eb1b0_0  \n",
      "twisted                   22.2.0           py39h2bbff1b_1  \n",
      "twisted-iocpsupport       1.0.2            py39h2bbff1b_0  \n",
      "typing-extensions         4.3.0            py39haa95532_0  \n",
      "typing_extensions         4.3.0            py39haa95532_0  \n",
      "tzdata                    2022c                h04d1e81_0  \n",
      "ujson                     5.4.0            py39hd77b12b_0  \n",
      "unidecode                 1.2.0              pyhd3eb1b0_0  \n",
      "urllib3                   1.26.11          py39haa95532_0  \n",
      "vc                        14.2                 h21ff451_1  \n",
      "vs2015_runtime            14.27.29016          h5e58377_2  \n",
      "w3lib                     1.21.0             pyhd3eb1b0_0  \n",
      "watchdog                  2.1.6            py39haa95532_0  \n",
      "wcwidth                   0.2.5              pyhd3eb1b0_0  \n",
      "webencodings              0.5.1            py39haa95532_1  \n",
      "websocket-client          0.58.0           py39haa95532_4  \n",
      "werkzeug                  2.0.3              pyhd3eb1b0_0  \n",
      "wheel                     0.37.1             pyhd3eb1b0_0  \n",
      "widgetsnbextension        3.5.2            py39haa95532_0  \n",
      "win_inet_pton             1.1.0            py39haa95532_0  \n",
      "win_unicode_console       0.5              py39haa95532_0  \n",
      "wincertstore              0.2              py39haa95532_2  \n",
      "winpty                    0.4.3                         4  \n",
      "wrapt                     1.14.1           py39h2bbff1b_0  \n",
      "xarray                    0.20.1             pyhd3eb1b0_1  \n",
      "xlrd                      2.0.1              pyhd3eb1b0_0  \n",
      "xlsxwriter                3.0.3              pyhd3eb1b0_0  \n",
      "xlwings                   0.27.15          py39haa95532_0  \n",
      "xz                        5.2.6                h8cc25b3_0  \n",
      "yaml                      0.2.5                he774522_0  \n",
      "yapf                      0.31.0             pyhd3eb1b0_0  \n",
      "zeromq                    4.3.4                hd77b12b_0  \n",
      "zfp                       0.5.5                hd77b12b_6  \n",
      "zict                      2.1.0            py39haa95532_0  \n",
      "zipp                      3.8.0            py39haa95532_0  \n",
      "zlib                      1.2.12               h8cc25b3_3  \n",
      "zope                      1.0              py39haa95532_1  \n",
      "zope.interface            5.4.0            py39h2bbff1b_0  \n",
      "zstd                      1.5.2                h19a0ad4_0  \n",
      "\n",
      "Note: you may need to restart the kernel to use updated packages.\n"
     ]
    }
   ],
   "source": [
    "conda list\n"
   ]
  },
  {
   "cell_type": "code",
   "execution_count": 9,
   "metadata": {},
   "outputs": [
    {
     "name": "stdout",
     "output_type": "stream",
     "text": [
      "^C\n",
      "\n",
      "Note: you may need to restart the kernel to use updated packages.\n"
     ]
    }
   ],
   "source": [
    "conda install -c conda-forge lighgtgbm\n"
   ]
  },
  {
   "cell_type": "code",
   "execution_count": null,
   "metadata": {},
   "outputs": [],
   "source": []
  },
  {
   "cell_type": "code",
   "execution_count": null,
   "metadata": {},
   "outputs": [],
   "source": []
  }
 ],
 "metadata": {
  "colab": {
   "name": "Book Genre Prediction.ipynb",
   "provenance": []
  },
  "kernelspec": {
   "display_name": "default",
   "language": "python",
   "name": "default"
  },
  "language_info": {
   "codemirror_mode": {
    "name": "ipython",
    "version": 3
   },
   "file_extension": ".py",
   "mimetype": "text/x-python",
   "name": "python",
   "nbconvert_exporter": "python",
   "pygments_lexer": "ipython3",
   "version": "3.10.8"
  }
 },
 "nbformat": 4,
 "nbformat_minor": 1
}
