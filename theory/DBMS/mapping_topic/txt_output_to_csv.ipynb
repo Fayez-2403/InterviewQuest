{
 "cells": [
  {
   "cell_type": "code",
   "execution_count": 1,
   "id": "9315028c",
   "metadata": {},
   "outputs": [],
   "source": [
    "import csv\n",
    "\n",
    "# Function to parse the input text and extract topic, description, and keywords\n",
    "def parse_text_to_csv(input_file, output_csv):\n",
    "    topics = []\n",
    "    descriptions = []\n",
    "    keywords = []\n",
    "\n",
    "    with open(input_file, 'r') as file:\n",
    "        lines = file.readlines()\n",
    "        current_topic = None\n",
    "        current_description = None\n",
    "        current_keywords = None\n",
    "\n",
    "        for line in lines:\n",
    "            line = line.strip()\n",
    "            if line.startswith(\"Topic:\"):\n",
    "                if current_topic:\n",
    "                    topics.append(current_topic)\n",
    "                    descriptions.append(current_description)\n",
    "                    keywords.append(\", \".join(current_keywords))\n",
    "                current_topic = line.replace(\"Topic:\", \"\").strip()\n",
    "            elif line.startswith(\"Description:\"):\n",
    "                current_description = line.replace(\"Description:\", \"\").strip()\n",
    "            elif line.startswith(\"Keywords:\"):\n",
    "                current_keywords = line.replace(\"Keywords:\", \"\").strip().split(', ')\n",
    "            elif current_topic:\n",
    "                # Accumulate lines as part of the description\n",
    "                current_description += \" \" + line\n",
    "\n",
    "        # Append the last topic\n",
    "        if current_topic:\n",
    "            topics.append(current_topic)\n",
    "            descriptions.append(current_description)\n",
    "            keywords.append(\", \".join(current_keywords))\n",
    "\n",
    "    # Write the data to a CSV file\n",
    "    with open(output_csv, 'w', newline='') as csv_file:\n",
    "        csv_writer = csv.writer(csv_file)\n",
    "        csv_writer.writerow([\"Topic\", \"Description\", \"Keywords\"])\n",
    "        for topic, description, keyword in zip(topics, descriptions, keywords):\n",
    "            csv_writer.writerow([topic, description, keyword])\n",
    "\n",
    "# Define input and output file names\n",
    "input_file = 'topic_with_desc.txt'\n",
    "output_csv = 'topic_with_desc.csv'\n",
    "\n",
    "# Call the function to parse and write to CSV\n",
    "parse_text_to_csv(input_file, output_csv)\n"
   ]
  },
  {
   "cell_type": "code",
   "execution_count": null,
   "id": "f9f53f46",
   "metadata": {},
   "outputs": [],
   "source": []
  }
 ],
 "metadata": {
  "kernelspec": {
   "display_name": "Python 3 (ipykernel)",
   "language": "python",
   "name": "python3"
  },
  "language_info": {
   "codemirror_mode": {
    "name": "ipython",
    "version": 3
   },
   "file_extension": ".py",
   "mimetype": "text/x-python",
   "name": "python",
   "nbconvert_exporter": "python",
   "pygments_lexer": "ipython3",
   "version": "3.9.12"
  }
 },
 "nbformat": 4,
 "nbformat_minor": 5
}
