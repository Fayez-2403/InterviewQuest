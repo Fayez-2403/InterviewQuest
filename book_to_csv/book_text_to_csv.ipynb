{
 "cells": [
  {
   "cell_type": "code",
   "execution_count": 7,
   "id": "32e71a00",
   "metadata": {},
   "outputs": [],
   "source": [
    "import re\n",
    "import csv\n",
    "\n",
    "def preprocess_text(text):\n",
    "    # Remove special characters, symbols, numbers (digits), and preserve periods (.)\n",
    "    cleaned_text = re.sub(r'[^\\w\\s.]|\\d', '', text)\n",
    "\n",
    "    # Remove multiple spaces and replace with a single space\n",
    "    cleaned_text = re.sub(r'\\s+', ' ', cleaned_text)\n",
    "\n",
    "    # Remove leading and trailing spaces\n",
    "    cleaned_text = cleaned_text.strip()\n",
    "\n",
    "    return cleaned_text\n",
    "\n",
    "def is_meaningful_sentence(sentence):\n",
    "    # Check if the sentence has less than 3 words or only contains dots\n",
    "    words = sentence.split()\n",
    "    return len(words) >= 3 and not all(word == '.' for word in words)\n",
    "\n",
    "def remove_trailing_fullstop(sentence):\n",
    "    # Remove the trailing full stop (period) from the sentence\n",
    "    return sentence.rstrip('.')\n",
    "\n",
    "def convert_to_csv(text, output_csv):\n",
    "    # Split the text into sentences based on periods followed by a space\n",
    "    sentences = re.split(r'(?<=\\.) ', text)\n",
    "\n",
    "    with open(output_csv, 'w', newline='', encoding='utf-8') as csvfile:\n",
    "        csv_writer = csv.writer(csvfile)\n",
    "        for sentence in sentences:\n",
    "            if is_meaningful_sentence(sentence):\n",
    "                cleaned_sentence = remove_trailing_fullstop(sentence)\n",
    "                csv_writer.writerow([cleaned_sentence])\n",
    "\n",
    "if __name__ == \"__main__\":\n",
    "    text_file_path = \"dbms_book.txt\"\n",
    "    output_csv_file = \"output_file3.csv\"\n",
    "\n",
    "    with open(text_file_path, 'r', encoding='utf-8') as file:\n",
    "        text_from_file = file.read()\n",
    "\n",
    "    cleaned_text = preprocess_text(text_from_file)\n",
    "    convert_to_csv(cleaned_text, output_csv_file)\n"
   ]
  }
 ],
 "metadata": {
  "kernelspec": {
   "display_name": "Python 3 (ipykernel)",
   "language": "python",
   "name": "python3"
  },
  "language_info": {
   "codemirror_mode": {
    "name": "ipython",
    "version": 3
   },
   "file_extension": ".py",
   "mimetype": "text/x-python",
   "name": "python",
   "nbconvert_exporter": "python",
   "pygments_lexer": "ipython3",
   "version": "3.10.9"
  }
 },
 "nbformat": 4,
 "nbformat_minor": 5
}
